{
 "cells": [
  {
   "cell_type": "code",
   "execution_count": null,
   "id": "785b7ffa-bc7e-4b85-a636-94e60df39a5f",
   "metadata": {},
   "outputs": [],
   "source": [
    "# IF RNN-FF Example.\n",
    "\n",
    "import numpy as np\n",
    "import matplotlib.pyplot as plt\n",
    "\n",
    "import torch\n",
    "import torch.nn as nn\n",
    "import torch.nn.functional as F"
   ]
  },
  {
   "cell_type": "code",
   "execution_count": null,
   "id": "ab64018e-d3a3-4203-8a4c-b548247f8bf1",
   "metadata": {},
   "outputs": [],
   "source": [
    "# Model definition.\n",
    "\n",
    "class RNN_FF(nn.Module):\n",
    "    def __init__(self, size_x, size_h):\n",
    "        super(RNN_FF, self).__init__()\n",
    "        self.size_x = size_x\n",
    "        self.size_h = size_h\n",
    "\n",
    "        self.rnn = nn.RNN(self.size_x, self.size_h, nonlinearity='tanh')\n",
    "        self.linear = nn.Linear(self.size_h, 1, bias=False)\n",
    "    \n",
    "    def forward(self, x):\n",
    "        output, _ = self.rnn(x)\n",
    "        output    = self.linear(output)\n",
    "        return output"
   ]
  },
  {
   "cell_type": "code",
   "execution_count": null,
   "id": "1cf51d1a-03bc-46cd-b71b-d862b3476484",
   "metadata": {},
   "outputs": [],
   "source": [
    "# Prepare data.\n",
    "\n",
    "from neuron_models import IF\n",
    "from neuron_models.framework import neuron_dataloader\n",
    "\n",
    "# Data and model parameters.\n",
    "batch_size = 1\n",
    "size_x = 1\n",
    "size_h = 3\n",
    "\n",
    "# Generate data.\n",
    "neuron_model = IF()\n",
    "neuron_model.run(300)\n",
    "\n",
    "# Load data.\n",
    "dataloader_train = neuron_dataloader(\n",
    "    neuron_model.I,\n",
    "    neuron_model.V,\n",
    "    batch_size = batch_size,\n",
    "    out_dimension = (1,batch_size,size_x),\n",
    ")"
   ]
  },
  {
   "cell_type": "code",
   "execution_count": null,
   "id": "052c81c8-178d-4411-a5b6-132690ee1962",
   "metadata": {},
   "outputs": [],
   "source": [
    "# Visualize data.\n",
    "\n",
    "fig = plt.figure(figsize=(15,2))\n",
    "plt.title('Input current vs Time')\n",
    "plt.ylabel('Current')\n",
    "plt.xlabel('Time')\n",
    "plt.grid()\n",
    "plt.plot(neuron_model.T,neuron_model.I, \"orange\")\n",
    "plt.show()\n",
    "\n",
    "fig = plt.figure(figsize=(15,2))\n",
    "plt.title('Membrane potential vs Time')\n",
    "plt.ylabel('Potential')\n",
    "plt.xlabel('Time')\n",
    "plt.grid()\n",
    "plt.plot(neuron_model.T,neuron_model.V)\n",
    "plt.show()"
   ]
  },
  {
   "cell_type": "code",
   "execution_count": null,
   "id": "c92f7859-5865-4b3c-9c56-361d6b091415",
   "metadata": {},
   "outputs": [],
   "source": [
    "# Training.\n",
    "\n",
    "from neuron_models.framework import Trainer\n",
    "from tqdm import trange\n",
    "\n",
    "# Define model and training parameters.\n",
    "model = RNN_FF(size_x, size_h)\n",
    "train_params = {\n",
    "    'epochs': 10,\n",
    "    'lr': 0.01,\n",
    "    'loss_fn': F.l1_loss,\n",
    "}\n",
    "\n",
    "# Train loop.\n",
    "trainer = Trainer(model, dataloader_train, dtype=torch.float64)\n",
    "LOSS_TRAIN = np.array([])\n",
    "\n",
    "for epoch in trange(train_params['epochs']):\n",
    "    model, loss_train = trainer.run(**train_params)\n",
    "    LOSS_TRAIN = np.append(LOSS_TRAIN, loss_train) # Collect results."
   ]
  },
  {
   "cell_type": "code",
   "execution_count": null,
   "id": "3c5e21f9-3c8a-4244-bf36-379f031f5fe9",
   "metadata": {},
   "outputs": [],
   "source": [
    "# Visualize loss.\n",
    "\n",
    "fig = plt.figure(figsize=(15,2))\n",
    "plt.title('Loss vs Steps')\n",
    "plt.ylabel('Loss')\n",
    "plt.xlabel('Steps')\n",
    "plt.grid()\n",
    "plt.plot(LOSS_TRAIN)\n",
    "plt.show()"
   ]
  },
  {
   "cell_type": "code",
   "execution_count": null,
   "id": "682686bb-da0e-42fd-a5ef-aac580978a88",
   "metadata": {},
   "outputs": [],
   "source": [
    "# Evaluate model.\n",
    "\n",
    "size = len(neuron_model.T)\n",
    "\n",
    "with torch.no_grad():\n",
    "    X = torch.ones(size, dtype=torch.double) \n",
    "    X = X.reshape(size,1,1)\n",
    "    Y = model(X)\n",
    "\n",
    "# Visualize.\n",
    "fig = plt.figure(figsize=(15,2))\n",
    "plt.title('Input current vs Time')\n",
    "plt.ylabel('Current')\n",
    "plt.xlabel('Time')\n",
    "plt.grid()\n",
    "plt.plot(X.reshape(size), \"orange\")\n",
    "plt.show()\n",
    "\n",
    "fig = plt.figure(figsize=(15,2))\n",
    "plt.title('Membrane potential vs Time (network output)')\n",
    "plt.ylabel('Potential')\n",
    "plt.xlabel('Time')\n",
    "plt.grid()\n",
    "plt.plot(Y.reshape(size))\n",
    "plt.show()\n",
    "\n",
    "fig = plt.figure(figsize=(15,2))\n",
    "plt.title('Membrane potential vs Time (training data)')\n",
    "plt.ylabel('Potential')\n",
    "plt.xlabel('Time')\n",
    "plt.grid()\n",
    "plt.plot(neuron_model.T,neuron_model.V)\n",
    "plt.show()"
   ]
  },
  {
   "cell_type": "code",
   "execution_count": null,
   "id": "60c62a09-e62d-437c-a7f7-ba86c4c4bfdd",
   "metadata": {},
   "outputs": [],
   "source": [
    "# Save and load model.\n",
    "\n",
    "torch.save(model, 'mymodel.pt')\n",
    "saved_model = torch.load('mymodel.pt')"
   ]
  }
 ],
 "metadata": {
  "kernelspec": {
   "display_name": "Python 3 (ipykernel)",
   "language": "python",
   "name": "python3"
  },
  "language_info": {
   "codemirror_mode": {
    "name": "ipython",
    "version": 3
   },
   "file_extension": ".py",
   "mimetype": "text/x-python",
   "name": "python",
   "nbconvert_exporter": "python",
   "pygments_lexer": "ipython3",
   "version": "3.9.2"
  }
 },
 "nbformat": 4,
 "nbformat_minor": 5
}
