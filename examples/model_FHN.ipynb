{
 "cells": [
  {
   "cell_type": "code",
   "execution_count": null,
   "metadata": {},
   "outputs": [],
   "source": [
    "import numpy as np\n",
    "import matplotlib.pyplot as plt\n",
    "from neuron.spiking import FHN\n",
    "\n",
    "def simple_plot(model):\n",
    "    plt.figure(figsize=(15,5))\n",
    "    plt.plot(model.T, model.V, label='Membrane potential')\n",
    "    plt.plot(model.T, model.I, label='Current')\n",
    "    plt.title(model.name); plt.xlabel('Time')\n",
    "    plt.legend(); plt.grid(ls=':'); plt.show()"
   ]
  },
  {
   "cell_type": "code",
   "execution_count": null,
   "metadata": {},
   "outputs": [],
   "source": [
    "# 1 - Constant current.\n",
    "model = FHN(a=0.7, b=0.8, tau=12.5, i0=0.5)\n",
    "model.run(1967)\n",
    "\n",
    "simple_plot(model)"
   ]
  },
  {
   "cell_type": "code",
   "execution_count": null,
   "metadata": {},
   "outputs": [],
   "source": [
    "# 2 - Variable current.\n",
    "model = FHN(a=0, b=0.5, tau=1)\n",
    "for _ in range(1967):\n",
    "    model.i = np.sin(0.3*model.t)\n",
    "    model.run_step()\n",
    "\n",
    "simple_plot(model)"
   ]
  }
 ],
 "metadata": {
  "kernelspec": {
   "display_name": "Python 3",
   "language": "python",
   "name": "python3"
  },
  "language_info": {
   "codemirror_mode": {
    "name": "ipython",
    "version": 3
   },
   "file_extension": ".py",
   "mimetype": "text/x-python",
   "name": "python",
   "nbconvert_exporter": "python",
   "pygments_lexer": "ipython3",
   "version": "3.7.3"
  }
 },
 "nbformat": 4,
 "nbformat_minor": 4
}
