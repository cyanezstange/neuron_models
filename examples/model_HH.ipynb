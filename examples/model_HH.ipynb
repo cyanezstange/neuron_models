{
 "cells": [
  {
   "cell_type": "code",
   "execution_count": null,
   "metadata": {},
   "outputs": [],
   "source": [
    "import numpy as np\n",
    "import matplotlib.pyplot as plt\n",
    "from neuron.spiking import HH\n",
    "\n",
    "def simple_plot(model):\n",
    "    plt.figure(figsize=(15,5))\n",
    "    plt.plot(model.T, model.V, label='Membrane potential')\n",
    "    plt.plot(model.T, model.I, label='Current')\n",
    "    plt.title(model.name); plt.xlabel('Time')\n",
    "    plt.legend(); plt.grid(ls=':'); plt.show()"
   ]
  },
  {
   "cell_type": "code",
   "execution_count": null,
   "metadata": {},
   "outputs": [],
   "source": [
    "# 1 - Constant current.\n",
    "model = HH(i0=0.5)\n",
    "model.run(400)\n",
    "\n",
    "simple_plot(model)"
   ]
  },
  {
   "cell_type": "code",
   "execution_count": null,
   "metadata": {},
   "outputs": [],
   "source": [
    "# 2 - Variable current.\n",
    "model = HH()\n",
    "for _ in range(400):\n",
    "    model.i = np.sin(model.t)*0.01\n",
    "    model.run_step()\n",
    "\n",
    "simple_plot(model)"
   ]
  }
 ],
 "metadata": {
  "kernelspec": {
   "display_name": "Python 3",
   "language": "python",
   "name": "python3"
  },
  "language_info": {
   "codemirror_mode": {
    "name": "ipython",
    "version": 3
   },
   "file_extension": ".py",
   "mimetype": "text/x-python",
   "name": "python",
   "nbconvert_exporter": "python",
   "pygments_lexer": "ipython3",
   "version": "3.7.3"
  }
 },
 "nbformat": 4,
 "nbformat_minor": 4
}
